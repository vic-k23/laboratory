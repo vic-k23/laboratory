{
  "nbformat": 4,
  "nbformat_minor": 0,
  "metadata": {
    "colab": {
      "name": "Kozlov_lesson1_hw.ipynb",
      "provenance": [],
      "collapsed_sections": [],
      "authorship_tag": "ABX9TyP+5KPI0rLpczeVpwS/qj+E",
      "include_colab_link": true
    },
    "kernelspec": {
      "name": "python3",
      "display_name": "Python 3"
    },
    "language_info": {
      "name": "python"
    }
  },
  "cells": [
    {
      "cell_type": "markdown",
      "metadata": {
        "id": "view-in-github",
        "colab_type": "text"
      },
      "source": [
        "<a href=\"https://colab.research.google.com/github/vic-k23/laboratory/blob/Python_for_DS/Kozlov_lesson1_hw.ipynb\" target=\"_parent\"><img src=\"https://colab.research.google.com/assets/colab-badge.svg\" alt=\"Open In Colab\"/></a>"
      ]
    },
    {
      "cell_type": "code",
      "metadata": {
        "id": "aK3WgFVrwgax"
      },
      "source": [
        "import numpy as np\n",
        "import pandas as pd\n",
        "from sklearn.metrics import f1_score"
      ],
      "execution_count": 25,
      "outputs": []
    },
    {
      "cell_type": "code",
      "metadata": {
        "id": "UsZAc_dQwqzm"
      },
      "source": [
        "size = 9999\n",
        "np.random.seed(42)\n",
        "expectancy = np.random.rand(size).reshape(size, 1)\n",
        "target_class = np.random.randint(0, 2, size).reshape(size, 1)"
      ],
      "execution_count": 79,
      "outputs": []
    },
    {
      "cell_type": "code",
      "metadata": {
        "colab": {
          "base_uri": "https://localhost:8080/",
          "height": 418
        },
        "id": "hum3cD6ixKAD",
        "outputId": "ac7046b1-3b71-4335-c91e-77744ea68882"
      },
      "source": [
        "df = pd.DataFrame(np.hstack((expectancy, target_class)),columns=['expectancy', 'class'])\n",
        "df"
      ],
      "execution_count": 80,
      "outputs": [
        {
          "output_type": "execute_result",
          "data": {
            "text/html": [
              "<div>\n",
              "<style scoped>\n",
              "    .dataframe tbody tr th:only-of-type {\n",
              "        vertical-align: middle;\n",
              "    }\n",
              "\n",
              "    .dataframe tbody tr th {\n",
              "        vertical-align: top;\n",
              "    }\n",
              "\n",
              "    .dataframe thead th {\n",
              "        text-align: right;\n",
              "    }\n",
              "</style>\n",
              "<table border=\"1\" class=\"dataframe\">\n",
              "  <thead>\n",
              "    <tr style=\"text-align: right;\">\n",
              "      <th></th>\n",
              "      <th>expectancy</th>\n",
              "      <th>class</th>\n",
              "    </tr>\n",
              "  </thead>\n",
              "  <tbody>\n",
              "    <tr>\n",
              "      <th>0</th>\n",
              "      <td>0.374540</td>\n",
              "      <td>1.0</td>\n",
              "    </tr>\n",
              "    <tr>\n",
              "      <th>1</th>\n",
              "      <td>0.950714</td>\n",
              "      <td>0.0</td>\n",
              "    </tr>\n",
              "    <tr>\n",
              "      <th>2</th>\n",
              "      <td>0.731994</td>\n",
              "      <td>0.0</td>\n",
              "    </tr>\n",
              "    <tr>\n",
              "      <th>3</th>\n",
              "      <td>0.598658</td>\n",
              "      <td>1.0</td>\n",
              "    </tr>\n",
              "    <tr>\n",
              "      <th>4</th>\n",
              "      <td>0.156019</td>\n",
              "      <td>1.0</td>\n",
              "    </tr>\n",
              "    <tr>\n",
              "      <th>...</th>\n",
              "      <td>...</td>\n",
              "      <td>...</td>\n",
              "    </tr>\n",
              "    <tr>\n",
              "      <th>9994</th>\n",
              "      <td>0.124614</td>\n",
              "      <td>0.0</td>\n",
              "    </tr>\n",
              "    <tr>\n",
              "      <th>9995</th>\n",
              "      <td>0.857656</td>\n",
              "      <td>1.0</td>\n",
              "    </tr>\n",
              "    <tr>\n",
              "      <th>9996</th>\n",
              "      <td>0.897509</td>\n",
              "      <td>1.0</td>\n",
              "    </tr>\n",
              "    <tr>\n",
              "      <th>9997</th>\n",
              "      <td>0.946708</td>\n",
              "      <td>1.0</td>\n",
              "    </tr>\n",
              "    <tr>\n",
              "      <th>9998</th>\n",
              "      <td>0.397488</td>\n",
              "      <td>1.0</td>\n",
              "    </tr>\n",
              "  </tbody>\n",
              "</table>\n",
              "<p>9999 rows × 2 columns</p>\n",
              "</div>"
            ],
            "text/plain": [
              "      expectancy  class\n",
              "0       0.374540    1.0\n",
              "1       0.950714    0.0\n",
              "2       0.731994    0.0\n",
              "3       0.598658    1.0\n",
              "4       0.156019    1.0\n",
              "...          ...    ...\n",
              "9994    0.124614    0.0\n",
              "9995    0.857656    1.0\n",
              "9996    0.897509    1.0\n",
              "9997    0.946708    1.0\n",
              "9998    0.397488    1.0\n",
              "\n",
              "[9999 rows x 2 columns]"
            ]
          },
          "metadata": {
            "tags": []
          },
          "execution_count": 80
        }
      ]
    },
    {
      "cell_type": "code",
      "metadata": {
        "colab": {
          "base_uri": "https://localhost:8080/",
          "height": 418
        },
        "id": "seoIvjM43TF-",
        "outputId": "197a7c19-6428-42de-b204-f306926612db"
      },
      "source": [
        "df_true = df.copy()\n",
        "df_true.loc[((df_true['expectancy'] < 0.5) & (df_true['class'] == 1.0)), 'class'] = 0.0\n",
        "df_true.loc[((df_true['expectancy'] >= 0.5) & (df_true['class'] == 0.0)), 'class'] = 1.0\n",
        "df_true"
      ],
      "execution_count": 81,
      "outputs": [
        {
          "output_type": "execute_result",
          "data": {
            "text/html": [
              "<div>\n",
              "<style scoped>\n",
              "    .dataframe tbody tr th:only-of-type {\n",
              "        vertical-align: middle;\n",
              "    }\n",
              "\n",
              "    .dataframe tbody tr th {\n",
              "        vertical-align: top;\n",
              "    }\n",
              "\n",
              "    .dataframe thead th {\n",
              "        text-align: right;\n",
              "    }\n",
              "</style>\n",
              "<table border=\"1\" class=\"dataframe\">\n",
              "  <thead>\n",
              "    <tr style=\"text-align: right;\">\n",
              "      <th></th>\n",
              "      <th>expectancy</th>\n",
              "      <th>class</th>\n",
              "    </tr>\n",
              "  </thead>\n",
              "  <tbody>\n",
              "    <tr>\n",
              "      <th>0</th>\n",
              "      <td>0.374540</td>\n",
              "      <td>0.0</td>\n",
              "    </tr>\n",
              "    <tr>\n",
              "      <th>1</th>\n",
              "      <td>0.950714</td>\n",
              "      <td>1.0</td>\n",
              "    </tr>\n",
              "    <tr>\n",
              "      <th>2</th>\n",
              "      <td>0.731994</td>\n",
              "      <td>1.0</td>\n",
              "    </tr>\n",
              "    <tr>\n",
              "      <th>3</th>\n",
              "      <td>0.598658</td>\n",
              "      <td>1.0</td>\n",
              "    </tr>\n",
              "    <tr>\n",
              "      <th>4</th>\n",
              "      <td>0.156019</td>\n",
              "      <td>0.0</td>\n",
              "    </tr>\n",
              "    <tr>\n",
              "      <th>...</th>\n",
              "      <td>...</td>\n",
              "      <td>...</td>\n",
              "    </tr>\n",
              "    <tr>\n",
              "      <th>9994</th>\n",
              "      <td>0.124614</td>\n",
              "      <td>0.0</td>\n",
              "    </tr>\n",
              "    <tr>\n",
              "      <th>9995</th>\n",
              "      <td>0.857656</td>\n",
              "      <td>1.0</td>\n",
              "    </tr>\n",
              "    <tr>\n",
              "      <th>9996</th>\n",
              "      <td>0.897509</td>\n",
              "      <td>1.0</td>\n",
              "    </tr>\n",
              "    <tr>\n",
              "      <th>9997</th>\n",
              "      <td>0.946708</td>\n",
              "      <td>1.0</td>\n",
              "    </tr>\n",
              "    <tr>\n",
              "      <th>9998</th>\n",
              "      <td>0.397488</td>\n",
              "      <td>0.0</td>\n",
              "    </tr>\n",
              "  </tbody>\n",
              "</table>\n",
              "<p>9999 rows × 2 columns</p>\n",
              "</div>"
            ],
            "text/plain": [
              "      expectancy  class\n",
              "0       0.374540    0.0\n",
              "1       0.950714    1.0\n",
              "2       0.731994    1.0\n",
              "3       0.598658    1.0\n",
              "4       0.156019    0.0\n",
              "...          ...    ...\n",
              "9994    0.124614    0.0\n",
              "9995    0.857656    1.0\n",
              "9996    0.897509    1.0\n",
              "9997    0.946708    1.0\n",
              "9998    0.397488    0.0\n",
              "\n",
              "[9999 rows x 2 columns]"
            ]
          },
          "metadata": {
            "tags": []
          },
          "execution_count": 81
        }
      ]
    },
    {
      "cell_type": "code",
      "metadata": {
        "colab": {
          "base_uri": "https://localhost:8080/"
        },
        "id": "vUtzqD75yqgA",
        "outputId": "a2073319-2314-457c-d432-d8f8b8b9d928"
      },
      "source": [
        "TP = df.loc[((df['expectancy'] >= 0.5) & (df['class'] == 1.0)), 'class'].count()\n",
        "TN = df.loc[((df['expectancy'] < 0.5) & (df['class'] == 0.0)), 'class'].count()\n",
        "FP = df.loc[((df['expectancy'] < 0.5) & (df['class'] == 1.0)), 'class'].count()\n",
        "FN = df.loc[((df['expectancy'] >= 0.5) & (df['class'] == 0.0)), 'class'].count()\n",
        "print(TP, FP)\n",
        "print(FN, TN)"
      ],
      "execution_count": 82,
      "outputs": [
        {
          "output_type": "stream",
          "text": [
            "2480 2556\n",
            "2444 2519\n"
          ],
          "name": "stdout"
        }
      ]
    },
    {
      "cell_type": "code",
      "metadata": {
        "colab": {
          "base_uri": "https://localhost:8080/"
        },
        "id": "igFEB8Wa1pST",
        "outputId": "3680e94f-2978-454f-8b0f-9176629c7c7d"
      },
      "source": [
        "precision = TP / (TP + FP)\n",
        "recall = TP / (TP + FN)\n",
        "print(f\"precision = {precision}, recall = {recall}\")"
      ],
      "execution_count": 83,
      "outputs": [
        {
          "output_type": "stream",
          "text": [
            "precision = 0.4924543288324067, recall = 0.503655564581641\n"
          ],
          "name": "stdout"
        }
      ]
    },
    {
      "cell_type": "code",
      "metadata": {
        "colab": {
          "base_uri": "https://localhost:8080/"
        },
        "id": "Ulo3osuJ17aG",
        "outputId": "cfdd01cd-14c7-44d9-9d6c-698ade3cfc3e"
      },
      "source": [
        "mean_pr = (precision + recall) / 2\n",
        "mean_pr"
      ],
      "execution_count": 84,
      "outputs": [
        {
          "output_type": "execute_result",
          "data": {
            "text/plain": [
              "0.4980549467070238"
            ]
          },
          "metadata": {
            "tags": []
          },
          "execution_count": 84
        }
      ]
    },
    {
      "cell_type": "code",
      "metadata": {
        "colab": {
          "base_uri": "https://localhost:8080/"
        },
        "id": "USqrRCIM2knp",
        "outputId": "1528c820-8681-45c0-aa3a-986f8183d99f"
      },
      "source": [
        "f1 = f1_score(df_true['class'], df['class'])\n",
        "f1"
      ],
      "execution_count": 85,
      "outputs": [
        {
          "output_type": "execute_result",
          "data": {
            "text/plain": [
              "0.497991967871486"
            ]
          },
          "metadata": {
            "tags": []
          },
          "execution_count": 85
        }
      ]
    }
  ]
}